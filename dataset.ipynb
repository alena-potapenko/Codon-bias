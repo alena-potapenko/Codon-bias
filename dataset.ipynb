{
 "cells": [
  {
   "cell_type": "code",
   "execution_count": 40,
   "metadata": {},
   "outputs": [],
   "source": [
    "import numpy as np\n",
    "import pandas as pd"
   ]
  },
  {
   "cell_type": "markdown",
   "metadata": {},
   "source": [
    "импорт функции relfreq, считающей частоты синонимичных кодонов"
   ]
  },
  {
   "cell_type": "code",
   "execution_count": 41,
   "metadata": {},
   "outputs": [],
   "source": [
    "from rel_freq import relfreq"
   ]
  },
  {
   "cell_type": "markdown",
   "metadata": {},
   "source": [
    "GC - доля нуклеотидов G/С в геноме, GC3 - доля G/C в третьих позициях кодонов\n",
    "rawdata - название исходного файла из базы данных CCUG\n",
    "result -  имя файла, куда будет сохранена csv таблица абсолютных частот встречаемости кодонов и GC3 к колонке gc_fraction\n",
    "normalized_result - имя файла, куда будет сохранена csv таблица с частотами встречаемости синонимичных кодонов - gc usage frequency (частоты кодонов посчитанные для группы синонимичных)"
   ]
  },
  {
   "cell_type": "code",
   "execution_count": 42,
   "metadata": {},
   "outputs": [],
   "source": [
    "rawdata = \"gbpln.txt\"\n",
    "result = \"df_plant.csv\"\n",
    "normalized_result = \"df_plant_relfreq.csv\""
   ]
  },
  {
   "cell_type": "markdown",
   "metadata": {},
   "source": [
    "следующая функция (gc3) возвращает частоту кодонов заканчивающихся на G или C - GC3, суммируя частоты таких кодонов"
   ]
  },
  {
   "cell_type": "code",
   "execution_count": 43,
   "metadata": {},
   "outputs": [],
   "source": [
    "def gc3(org):\n",
    "    org=dict(org)\n",
    "    gc = 0\n",
    "    for key in org.keys():\n",
    "        if key[2] == \"G\" or key[2] == \"C\":\n",
    "            gc += org[key]\n",
    "    return(gc)"
   ]
  },
  {
   "cell_type": "markdown",
   "metadata": {},
   "source": [
    "index - файл, содержащий порядок кодонов, в котором записаны их количества для каждого элемента датасета в базе данных CCUG. Соответствует файлу CODON_LABEL из базы данных CCUG. В следующей ячейке создается список кодонов используемых для названия колонок в будущем датафрейме"
   ]
  },
  {
   "cell_type": "code",
   "execution_count": 44,
   "metadata": {},
   "outputs": [],
   "source": [
    "with open(\"index\",\"r\") as infile:\n",
    "    infile.readline()\n",
    "    col = infile.readline().strip(\"\\n\").split(\" \")"
   ]
  },
  {
   "cell_type": "markdown",
   "metadata": {},
   "source": [
    "Открываем файл (расширение .spsum из CCUG) с количеством кодонов для разных организмов, cоздаем датафрейм c колонкой GC3 - gc_fraction "
   ]
  },
  {
   "cell_type": "code",
   "execution_count": 45,
   "metadata": {},
   "outputs": [],
   "source": [
    "data = []\n",
    "with open(rawdata,\"r\") as f:\n",
    "    for line in f:\n",
    "        if not \":\" in line:\n",
    "            data.append(np.array(line.strip(\"\\n\").strip(\" \").split(\" \")).astype(\"int64\"))\n",
    "df = pd.DataFrame(data, columns = col)"
   ]
  },
  {
   "cell_type": "markdown",
   "metadata": {},
   "source": [
    "создаем датафрейм с частотами кодонов внутри группы синонимичных при помощи функции relfreq"
   ]
  },
  {
   "cell_type": "code",
   "execution_count": 46,
   "metadata": {},
   "outputs": [],
   "source": [
    "normalized_df={}\n",
    "for ind in df.index:\n",
    "    normalized_df[ind] = relfreq(df.loc[ind].to_dict())\n",
    "normalized_df = pd.DataFrame(normalized_df).T"
   ]
  },
  {
   "cell_type": "markdown",
   "metadata": {},
   "source": [
    "находим сумму всех кодонов и заменяем количество кодона на абсолютную частоту его встречаемости"
   ]
  },
  {
   "cell_type": "code",
   "execution_count": 47,
   "metadata": {},
   "outputs": [],
   "source": [
    "df[\"sum\"] = (df.sum(axis=1))\n",
    "for elem in col:\n",
    "    df[elem] = df[elem] / df[\"sum\"]\n",
    "df = df.drop([\"sum\"], axis=1)"
   ]
  },
  {
   "cell_type": "markdown",
   "metadata": {},
   "source": [
    "считаем GC3 и добавляем его в оба датасета"
   ]
  },
  {
   "cell_type": "code",
   "execution_count": 48,
   "metadata": {},
   "outputs": [],
   "source": [
    "gc = []\n",
    "for ind in range(len(df)):\n",
    "    gc.append(gc3(df.iloc[ind]))\n",
    "df[\"gc_fraction\"] = gc\n",
    "normalized_df[\"gc_fraction\"] = df[\"gc_fraction\"]"
   ]
  },
  {
   "cell_type": "markdown",
   "metadata": {},
   "source": [
    "сортируем элементы датафреймoв согласно GC3 по возрастанию и сохраняем в соответствующие файлы"
   ]
  },
  {
   "cell_type": "code",
   "execution_count": 49,
   "metadata": {},
   "outputs": [],
   "source": [
    "df = df.sort_values(by = \"gc_fraction\")\n",
    "normalized_df = normalized_df.sort_values(by = \"gc_fraction\")\n",
    "df.to_csv(result)\n",
    "normalized_df.to_csv(normalized_result)"
   ]
  }
 ],
 "metadata": {
  "kernelspec": {
   "display_name": "Python 3",
   "language": "python",
   "name": "python3"
  },
  "language_info": {
   "codemirror_mode": {
    "name": "ipython",
    "version": 3
   },
   "file_extension": ".py",
   "mimetype": "text/x-python",
   "name": "python",
   "nbconvert_exporter": "python",
   "pygments_lexer": "ipython3",
   "version": "3.7.1"
  }
 },
 "nbformat": 4,
 "nbformat_minor": 2
}
